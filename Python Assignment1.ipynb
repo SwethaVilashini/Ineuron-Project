{
 "cells": [
  {
   "cell_type": "code",
   "execution_count": 1,
   "id": "367f48c1",
   "metadata": {},
   "outputs": [
    {
     "name": "stdout",
     "output_type": "stream",
     "text": [
      "Hello Python\n"
     ]
    }
   ],
   "source": [
    "print(\"Hello Python\")"
   ]
  },
  {
   "cell_type": "code",
   "execution_count": 4,
   "id": "6b9cb310",
   "metadata": {},
   "outputs": [
    {
     "name": "stdout",
     "output_type": "stream",
     "text": [
      "Enter a number10\n",
      "Enter a number5\n",
      "addition is 15\n",
      "division is 2.0\n"
     ]
    }
   ],
   "source": [
    "a= int(input(\"Enter a number\"))\n",
    "b=int(input(\"Enter a number\"))\n",
    "c = a+b\n",
    "d= a/b\n",
    "print (\"addition is\", c)\n",
    "print (\"division is\", d)"
   ]
  },
  {
   "cell_type": "code",
   "execution_count": 6,
   "id": "4be9e6f0",
   "metadata": {},
   "outputs": [
    {
     "name": "stdout",
     "output_type": "stream",
     "text": [
      "Enter the base of the triangle10\n",
      "Enter the height of the triangle5\n",
      "Area of the triangle is  25.0\n"
     ]
    }
   ],
   "source": [
    "base=int(input(\"Enter the base of the triangle\"))\n",
    "height=int(input(\"Enter the height of the triangle\"))\n",
    "Area = 0.5*base*height\n",
    "print(\"Area of the triangle is \", Area)"
   ]
  },
  {
   "cell_type": "code",
   "execution_count": 7,
   "id": "6551930d",
   "metadata": {},
   "outputs": [
    {
     "name": "stdout",
     "output_type": "stream",
     "text": [
      "Values of x and y after swapping is  20 10\n"
     ]
    }
   ],
   "source": [
    "x=10\n",
    "y=20\n",
    "x,y=y,x\n",
    "print(\"Values of x and y after swapping is \", x, y)"
   ]
  },
  {
   "cell_type": "code",
   "execution_count": 11,
   "id": "e5ab0432",
   "metadata": {},
   "outputs": [
    {
     "name": "stdout",
     "output_type": "stream",
     "text": [
      "55\n"
     ]
    }
   ],
   "source": [
    "import random\n",
    "\n",
    "print(random.randint(0,100))"
   ]
  },
  {
   "cell_type": "code",
   "execution_count": null,
   "id": "0bbf7cf5",
   "metadata": {},
   "outputs": [],
   "source": []
  }
 ],
 "metadata": {
  "kernelspec": {
   "display_name": "Python 3 (ipykernel)",
   "language": "python",
   "name": "python3"
  },
  "language_info": {
   "codemirror_mode": {
    "name": "ipython",
    "version": 3
   },
   "file_extension": ".py",
   "mimetype": "text/x-python",
   "name": "python",
   "nbconvert_exporter": "python",
   "pygments_lexer": "ipython3",
   "version": "3.9.7"
  }
 },
 "nbformat": 4,
 "nbformat_minor": 5
}
