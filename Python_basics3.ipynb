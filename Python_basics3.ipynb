{
 "cells": [
  {
   "cell_type": "markdown",
   "id": "c67e9a99",
   "metadata": {},
   "source": [
    "1)\n",
    "To reduce code redundancy\n",
    "Enhance Code resuablility"
   ]
  },
  {
   "cell_type": "markdown",
   "id": "b7967ccc",
   "metadata": {},
   "source": [
    "2) When it is called "
   ]
  },
  {
   "cell_type": "raw",
   "id": "78e40608",
   "metadata": {},
   "source": [
    "3) def function func_name():\n",
    "    # stmts"
   ]
  },
  {
   "cell_type": "raw",
   "id": "65bb6106",
   "metadata": {},
   "source": [
    "4)\n",
    "Function is creating a program to perform repeatitive tasks to reduce human efforts. A function call is calling the function."
   ]
  },
  {
   "cell_type": "raw",
   "id": "675335cf",
   "metadata": {},
   "source": [
    "5)\n",
    "One global scope \n",
    "Many local scope\n"
   ]
  },
  {
   "cell_type": "raw",
   "id": "20578169",
   "metadata": {},
   "source": [
    "6)\n",
    "they get called and executed"
   ]
  },
  {
   "cell_type": "raw",
   "id": "c7eb2108",
   "metadata": {},
   "source": [
    "7)\n",
    "Return doesnot print a value. "
   ]
  },
  {
   "cell_type": "raw",
   "id": "c88b12ff",
   "metadata": {},
   "source": [
    "8)\n",
    "the return value is undefined\n"
   ]
  },
  {
   "cell_type": "raw",
   "id": "c3175bd7",
   "metadata": {},
   "source": [
    "9)\n",
    "If you want to refer to a global variable in a function, you can use the global keyword to declare which variables are global"
   ]
  },
  {
   "cell_type": "code",
   "execution_count": 1,
   "id": "6f1bb58a",
   "metadata": {},
   "outputs": [
    {
     "data": {
      "text/plain": [
       "NoneType"
      ]
     },
     "execution_count": 1,
     "metadata": {},
     "output_type": "execute_result"
    }
   ],
   "source": [
    "# qn n. 10\n",
    "type(None)\n"
   ]
  },
  {
   "cell_type": "raw",
   "id": "d220204e",
   "metadata": {},
   "source": [
    "12)\n",
    "spam.bacon()"
   ]
  },
  {
   "cell_type": "raw",
   "id": "56fd0817",
   "metadata": {},
   "source": [
    "13)\n",
    "Exception handling"
   ]
  },
  {
   "cell_type": "raw",
   "id": "4faec3d4",
   "metadata": {},
   "source": [
    "14)\n",
    "The try and except clause are part of exception handling statements. The try clause is used where the user wants to execute the statements which can throw error. i.e., the statements which can be problematic. The except clause is used to handle the mishaps that might occur in the code written in try block."
   ]
  },
  {
   "cell_type": "code",
   "execution_count": null,
   "id": "52e292b0",
   "metadata": {},
   "outputs": [],
   "source": []
  }
 ],
 "metadata": {
  "kernelspec": {
   "display_name": "Python 3 (ipykernel)",
   "language": "python",
   "name": "python3"
  },
  "language_info": {
   "codemirror_mode": {
    "name": "ipython",
    "version": 3
   },
   "file_extension": ".py",
   "mimetype": "text/x-python",
   "name": "python",
   "nbconvert_exporter": "python",
   "pygments_lexer": "ipython3",
   "version": "3.9.7"
  }
 },
 "nbformat": 4,
 "nbformat_minor": 5
}
