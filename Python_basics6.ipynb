{
 "cells": [
  {
   "cell_type": "markdown",
   "id": "d47699b1",
   "metadata": {},
   "source": [
    "1)\n",
    "Escape characters are used to include special characters in a variable. We have to add a blackslash and followed by tit the character.\n"
   ]
  },
  {
   "cell_type": "markdown",
   "id": "044c4f02",
   "metadata": {},
   "source": [
    "2) \n",
    "\\n is for newline\n",
    "\\t is for creating a new tab"
   ]
  },
  {
   "cell_type": "markdown",
   "id": "be9e5a84",
   "metadata": {},
   "source": [
    "3)\n",
    "s=\"This is a sample string\\n This is second string.\""
   ]
  },
  {
   "cell_type": "markdown",
   "id": "fc66afaf",
   "metadata": {},
   "source": [
    "4)\n",
    "It is not a problem because we have used double quotes to include the whole text."
   ]
  },
  {
   "cell_type": "markdown",
   "id": "ebbdea7b",
   "metadata": {},
   "source": [
    "5)\n",
    "You can enclose it in triple quotes"
   ]
  },
  {
   "cell_type": "code",
   "execution_count": null,
   "id": "d99bbebd",
   "metadata": {},
   "outputs": [],
   "source": [
    "6)\n",
    "a) prints character in first index. so output is 'e'\n",
    "b) prints characters from 0 to 5 excluding the 5th character. so output is 'Hello'\n",
    "c) prints characters  from 0 to 5 excluding the 5th character. so output is 'Hello'\n",
    "d) prints all characters from third index to last index. so output is 'lo,world'"
   ]
  },
  {
   "cell_type": "markdown",
   "id": "9d900438",
   "metadata": {},
   "source": [
    "7)\n",
    "a) will return the string in uppercase. so output is 'HELLO'\n",
    "b) will convert hello to upper and check if it is upper. In this case, it is upper . so output is 'True'\n",
    "c) will convert hello to upper and check if it is upper. in this case, it is lower. so it will return \"False\"\n"
   ]
  },
  {
   "cell_type": "markdown",
   "id": "cf33f664",
   "metadata": {},
   "source": [
    "8)\n",
    "['Remember,', 'remember,', 'the', 'fifth', 'of', 'July.'] is the ouput\n",
    "'There-can-only-one.' is the ouput\n"
   ]
  },
  {
   "cell_type": "markdown",
   "id": "649ba86e",
   "metadata": {},
   "source": [
    "9)\n",
    "s.lstrip() for left-justifying\n",
    "s.rstrip() for right-justifying\n",
    "s.center(width,character) for centering a string\n"
   ]
  },
  {
   "cell_type": "markdown",
   "id": "bde6c675",
   "metadata": {},
   "source": [
    "10)\n",
    "s.strip() is best way to remove whitespace characters "
   ]
  },
  {
   "cell_type": "code",
   "execution_count": null,
   "id": "4efd4bd0",
   "metadata": {},
   "outputs": [],
   "source": []
  }
 ],
 "metadata": {
  "kernelspec": {
   "display_name": "Python 3 (ipykernel)",
   "language": "python",
   "name": "python3"
  },
  "language_info": {
   "codemirror_mode": {
    "name": "ipython",
    "version": 3
   },
   "file_extension": ".py",
   "mimetype": "text/x-python",
   "name": "python",
   "nbconvert_exporter": "python",
   "pygments_lexer": "ipython3",
   "version": "3.9.7"
  }
 },
 "nbformat": 4,
 "nbformat_minor": 5
}
