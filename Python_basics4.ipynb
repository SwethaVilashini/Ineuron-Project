{
 "cells": [
  {
   "cell_type": "markdown",
   "id": "cde8f167",
   "metadata": {},
   "source": [
    "1)\n",
    "[] is an empty list"
   ]
  },
  {
   "cell_type": "code",
   "execution_count": 6,
   "id": "855807b9",
   "metadata": {},
   "outputs": [
    {
     "data": {
      "text/plain": [
       "[1, 2, 'hello', 4]"
      ]
     },
     "execution_count": 6,
     "metadata": {},
     "output_type": "execute_result"
    }
   ],
   "source": [
    "# qn no. 2\n",
    "Spam=[1,2,3,4]\n",
    "Spam[2]='hello'\n",
    "Spam"
   ]
  },
  {
   "cell_type": "code",
   "execution_count": 14,
   "id": "a97d5236",
   "metadata": {},
   "outputs": [
    {
     "data": {
      "text/plain": [
       "'d'"
      ]
     },
     "execution_count": 14,
     "metadata": {},
     "output_type": "execute_result"
    }
   ],
   "source": [
    "# qn no. 3\n",
    "spam[int(int('3'*2)/11)]\n"
   ]
  },
  {
   "cell_type": "code",
   "execution_count": 12,
   "id": "f6273ff1",
   "metadata": {},
   "outputs": [
    {
     "data": {
      "text/plain": [
       "'d'"
      ]
     },
     "execution_count": 12,
     "metadata": {},
     "output_type": "execute_result"
    }
   ],
   "source": [
    "# qn no.4 \n",
    "spam = ['a','b','c','d']\n",
    "spam[-1]"
   ]
  },
  {
   "cell_type": "code",
   "execution_count": 15,
   "id": "0801b0f2",
   "metadata": {},
   "outputs": [
    {
     "data": {
      "text/plain": [
       "['a', 'b']"
      ]
     },
     "execution_count": 15,
     "metadata": {},
     "output_type": "execute_result"
    }
   ],
   "source": [
    "# qn no. 5\n",
    "spam[:2]"
   ]
  },
  {
   "cell_type": "code",
   "execution_count": 17,
   "id": "b3758848",
   "metadata": {},
   "outputs": [
    {
     "data": {
      "text/plain": [
       "1"
      ]
     },
     "execution_count": 17,
     "metadata": {},
     "output_type": "execute_result"
    }
   ],
   "source": [
    "#qn no.6\n",
    "bacon=[3.14,'cat',11,'cat','True']\n",
    "bacon.index('cat')"
   ]
  },
  {
   "cell_type": "markdown",
   "id": "a9b0b8c4",
   "metadata": {},
   "source": [
    "7)\n",
    "bacon.append(99) will append 99 to the bacon list."
   ]
  },
  {
   "cell_type": "markdown",
   "id": "6ec0d563",
   "metadata": {},
   "source": [
    "8)\n",
    "bacon.remove('cat') will remove the word cat from the list bacon"
   ]
  },
  {
   "cell_type": "markdown",
   "id": "865d4af8",
   "metadata": {},
   "source": [
    "9)\n",
    "The operator for list concatenation is +, while the operator for replication is *."
   ]
  },
  {
   "cell_type": "markdown",
   "id": "e3ce8034",
   "metadata": {},
   "source": [
    "10)\n",
    "append will add the element in the end of the list.\n",
    "insert will add the element in the index specified in the list"
   ]
  },
  {
   "cell_type": "markdown",
   "id": "f54de9c4",
   "metadata": {},
   "source": [
    "11)\n",
    "list.remove() and \n",
    "list.pop() "
   ]
  },
  {
   "cell_type": "markdown",
   "id": "3c8b1271",
   "metadata": {},
   "source": [
    "12)\n",
    "string contains characters. list values can contain string values.\n"
   ]
  },
  {
   "cell_type": "markdown",
   "id": "657ce79c",
   "metadata": {},
   "source": [
    "13)\n",
    "Tuples is denoted using ()\n",
    "List is denoted using []\n",
    "Tuples are immutable .\n",
    "Lists are mutable"
   ]
  },
  {
   "cell_type": "code",
   "execution_count": 3,
   "id": "b2f9b90e",
   "metadata": {},
   "outputs": [],
   "source": [
    "# qn no.14\n",
    "tuple=(42)"
   ]
  },
  {
   "cell_type": "markdown",
   "id": "1f37410f",
   "metadata": {},
   "source": [
    "15)\n",
    "a) To convert a list to tuple, tuple(list)\n",
    "b) To convert a tuple to list , list(tuple)"
   ]
  },
  {
   "cell_type": "markdown",
   "id": "30497332",
   "metadata": {},
   "source": [
    "#qn no. 17\n",
    "copy() creates reference to original object.\n",
    "If you change copied object - you change the original object.\n",
    "deepcopy() creates new object and does real copying of original object to new one.\n",
    "Changing new deepcopied object doesn't affect original object.\n"
   ]
  },
  {
   "cell_type": "code",
   "execution_count": null,
   "id": "1fd64694",
   "metadata": {},
   "outputs": [],
   "source": []
  }
 ],
 "metadata": {
  "kernelspec": {
   "display_name": "Python 3 (ipykernel)",
   "language": "python",
   "name": "python3"
  },
  "language_info": {
   "codemirror_mode": {
    "name": "ipython",
    "version": 3
   },
   "file_extension": ".py",
   "mimetype": "text/x-python",
   "name": "python",
   "nbconvert_exporter": "python",
   "pygments_lexer": "ipython3",
   "version": "3.9.7"
  }
 },
 "nbformat": 4,
 "nbformat_minor": 5
}
