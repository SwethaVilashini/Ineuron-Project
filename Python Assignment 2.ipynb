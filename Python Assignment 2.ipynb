{
 "cells": [
  {
   "cell_type": "code",
   "execution_count": 5,
   "id": "3ba923c1",
   "metadata": {},
   "outputs": [
    {
     "name": "stdout",
     "output_type": "stream",
     "text": [
      "Enter the Kilometer value100\n",
      "The miles value is 62.15040397762586\n"
     ]
    }
   ],
   "source": [
    "km=int(input(\"Enter the Kilometer value\"))\n",
    "km_m= a/1.609\n",
    "print(\"The miles value is\", km_m)"
   ]
  },
  {
   "cell_type": "code",
   "execution_count": 6,
   "id": "85f839bc",
   "metadata": {},
   "outputs": [
    {
     "name": "stdout",
     "output_type": "stream",
     "text": [
      "Enter the Celsius value100\n",
      "The Fahrenheit value is  212.0\n"
     ]
    }
   ],
   "source": [
    "celsius=int(input(\"Enter the Celsius value\"))\n",
    "f=(celsius*1.8)+32\n",
    "print(\"The Fahrenheit value is \", f)"
   ]
  },
  {
   "cell_type": "code",
   "execution_count": 4,
   "id": "caf71290",
   "metadata": {},
   "outputs": [
    {
     "name": "stdout",
     "output_type": "stream",
     "text": [
      "enter the first number50\n",
      "enter the second number10\n",
      "Addition of two numbers is  60\n",
      "Subtraction of two numbers is  40\n",
      "Multiplication of two numbers is  500\n",
      "Division of two numbers is  5.0\n"
     ]
    }
   ],
   "source": [
    "number1=int(input(\"enter the first number\"))\n",
    "number2=int(input(\"enter the second number\"))\n",
    "addition= number1+number2\n",
    "subtraction= number1 -number2\n",
    "multiplication= number1 * number2\n",
    "division= number1/ number2\n",
    "print(\"Addition of two numbers is \", addition)\n",
    "print(\"Subtraction of two numbers is \", subtraction)\n",
    "print(\"Multiplication of two numbers is \", multiplication)\n",
    "print(\"Division of two numbers is \", division)"
   ]
  },
  {
   "cell_type": "code",
   "execution_count": 7,
   "id": "f0298c6b",
   "metadata": {},
   "outputs": [
    {
     "name": "stdout",
     "output_type": "stream",
     "text": [
      "Enter the value of a1\n",
      "Enter the value of b5\n",
      "Enter the value of c6\n",
      "The solution are (-3+0j) and (-2+0j)\n"
     ]
    }
   ],
   "source": [
    "import cmath\n",
    "a=int(input(\"Enter the value of a\"))\n",
    "b=int(input(\"Enter the value of b\"))\n",
    "c=int(input(\"Enter the value of c\"))\n",
    "d=(b**2)-(4*a*c)\n",
    "sol1 = (-b-cmath.sqrt(d))/(2*a)\n",
    "sol2 = (-b+cmath.sqrt(d))/(2*a)\n",
    "\n",
    "print('The solution are {0} and {1}'.format(sol1,sol2))\n"
   ]
  },
  {
   "cell_type": "code",
   "execution_count": 9,
   "id": "6f868697",
   "metadata": {},
   "outputs": [
    {
     "name": "stdout",
     "output_type": "stream",
     "text": [
      "Enter the value of x10\n",
      "Enter the value of y50\n",
      "Values of x and y after swapping is  50 10\n"
     ]
    }
   ],
   "source": [
    "x=int(input(\"Enter the value of x\"))\n",
    "y=int(input(\"Enter the value of y\"))\n",
    "x,y=y,x\n",
    "print(\"Values of x and y after swapping is \", x, y)"
   ]
  },
  {
   "cell_type": "code",
   "execution_count": null,
   "id": "a749d44a",
   "metadata": {},
   "outputs": [],
   "source": []
  }
 ],
 "metadata": {
  "kernelspec": {
   "display_name": "Python 3 (ipykernel)",
   "language": "python",
   "name": "python3"
  },
  "language_info": {
   "codemirror_mode": {
    "name": "ipython",
    "version": 3
   },
   "file_extension": ".py",
   "mimetype": "text/x-python",
   "name": "python",
   "nbconvert_exporter": "python",
   "pygments_lexer": "ipython3",
   "version": "3.9.7"
  }
 },
 "nbformat": 4,
 "nbformat_minor": 5
}
