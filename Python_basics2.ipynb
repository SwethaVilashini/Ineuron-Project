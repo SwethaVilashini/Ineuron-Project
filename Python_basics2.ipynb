{
 "cells": [
  {
   "cell_type": "markdown",
   "id": "69a9e8d5",
   "metadata": {},
   "source": [
    "1)\n",
    "The 2 values of the Boolean data type are True and False. Numbers can be used as bool values by using Python's built-in bool() method."
   ]
  },
  {
   "cell_type": "markdown",
   "id": "80444d32",
   "metadata": {},
   "source": [
    "2)\n",
    "Types of Boolean operators are :\n",
    "    a) AND\n",
    "    b) OR\n",
    "    c) NOT"
   ]
  },
  {
   "cell_type": "markdown",
   "id": "406cc1eb",
   "metadata": {},
   "source": [
    "3)\n",
    "AND OPERATOR :\n",
    "    True AND True is True\n",
    "    True AND False is False\n",
    "    False AND True is False\n",
    "    False AND False is False\n",
    "\n",
    "OR OPERATOR:\n",
    "    True OR True is True\n",
    "    True OR False is True\n",
    "    False OR True is True\n",
    "    False OR False is False\n",
    "\n",
    "NOT OPERATOR:\n",
    "    NOT (TRUE) is False\n",
    "    NOT (FALSE) is True\n",
    "    "
   ]
  },
  {
   "cell_type": "markdown",
   "id": "f227223f",
   "metadata": {},
   "source": [
    "4)\n",
    "(5 > 4) and (3 == 5) returns False\n",
    "not(5>4) returns False\n",
    "(5>4) or (3==5) returns True\n",
    "not((5>4) or (3==5)) returns False\n",
    "(True and True) and (True ==False) returns False\n",
    "(not False) or (not True) returns True "
   ]
  },
  {
   "cell_type": "markdown",
   "id": "b0a6fbed",
   "metadata": {},
   "source": [
    "5)\n",
    "Equal to , Not equal to, Greater than, Lesser than, Lesser than or equal to and Greater than or eqaul to are the 6 comparision operators"
   ]
  },
  {
   "cell_type": "markdown",
   "id": "4e0e3ef3",
   "metadata": {},
   "source": [
    "6)\n",
    "The equal to operator is used for varaible declaration like a=6\n",
    "The assignment operator is a relational operator which is used for comparing 2 statemnts or values or variables \n",
    "Example:\n",
    "    if x==6:\n",
    "        print(\"Hello\")"
   ]
  },
  {
   "cell_type": "markdown",
   "id": "c0666d32",
   "metadata": {},
   "source": [
    "7)\n",
    "There are 2 if blocks and one else block"
   ]
  },
  {
   "cell_type": "code",
   "execution_count": 2,
   "id": "a8726ac3",
   "metadata": {},
   "outputs": [
    {
     "name": "stdout",
     "output_type": "stream",
     "text": [
      "Enter a number10\n",
      "Greetings!\n"
     ]
    }
   ],
   "source": [
    "#qn no. 8\n",
    "spam=int(input(\"Enter a number\"))\n",
    "if spam ==1:\n",
    "    print(\"Hello\")\n",
    "elif spam ==2:\n",
    "    print(\"Howdy\")\n",
    "else:\n",
    "    print(\"Greetings!\")"
   ]
  },
  {
   "cell_type": "markdown",
   "id": "b0b40e54",
   "metadata": {},
   "source": [
    "9) You should restart the kernel"
   ]
  },
  {
   "cell_type": "markdown",
   "id": "182414ec",
   "metadata": {},
   "source": [
    "10)\n",
    "Break will break the loop meaning the set of codes written below it won't be executed. \n",
    "Continue will pass on the control of the loop to the respective conditional statement or loop like FOR, IF, WHILE and the program will run in loop."
   ]
  },
  {
   "cell_type": "markdown",
   "id": "d2e0fb2b",
   "metadata": {},
   "source": [
    "11)\n",
    "Syntax of the range function is \n",
    "range(start,stop,step)\n",
    "So, all the statements gives the same result."
   ]
  },
  {
   "cell_type": "code",
   "execution_count": 10,
   "id": "999fd06e",
   "metadata": {},
   "outputs": [
    {
     "name": "stdout",
     "output_type": "stream",
     "text": [
      "0\n",
      "1\n",
      "2\n",
      "3\n",
      "4\n",
      "5\n",
      "6\n",
      "7\n",
      "8\n",
      "9\n"
     ]
    }
   ],
   "source": [
    "# qn no. 12\n",
    "for i in range(0,10):\n",
    "    print(i)"
   ]
  },
  {
   "cell_type": "code",
   "execution_count": 1,
   "id": "6614920a",
   "metadata": {},
   "outputs": [
    {
     "name": "stdout",
     "output_type": "stream",
     "text": [
      "1\n",
      "2\n",
      "3\n",
      "4\n",
      "5\n",
      "6\n",
      "7\n",
      "8\n",
      "9\n",
      "10\n"
     ]
    }
   ],
   "source": [
    "# qn no.12\n",
    "i = 1\n",
    "while(i<=10):\n",
    "    print(i)\n",
    "    i =  i + 1"
   ]
  },
  {
   "cell_type": "markdown",
   "id": "00af75be",
   "metadata": {},
   "source": [
    "13)\n",
    "import spam \\n\n",
    "spam.bacon()"
   ]
  },
  {
   "cell_type": "code",
   "execution_count": null,
   "id": "78f20a44",
   "metadata": {},
   "outputs": [],
   "source": []
  }
 ],
 "metadata": {
  "kernelspec": {
   "display_name": "Python 3 (ipykernel)",
   "language": "python",
   "name": "python3"
  },
  "language_info": {
   "codemirror_mode": {
    "name": "ipython",
    "version": 3
   },
   "file_extension": ".py",
   "mimetype": "text/x-python",
   "name": "python",
   "nbconvert_exporter": "python",
   "pygments_lexer": "ipython3",
   "version": "3.9.7"
  }
 },
 "nbformat": 4,
 "nbformat_minor": 5
}
