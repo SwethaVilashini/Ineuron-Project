{
 "cells": [
  {
   "cell_type": "markdown",
   "id": "93839f8f",
   "metadata": {},
   "source": [
    "1) \n",
    "* is a mathematical operator. It is an expression\n",
    "'hello' is a string. It is a value\n",
    "-87.8 is a value\n",
    "- is a mathematical operator. It is an expression\n",
    "/ is a mathematical operator. It is an expression\n",
    "+ is a mathematical operator. It is an expression\n",
    "6 is a value\n"
   ]
  },
  {
   "cell_type": "markdown",
   "id": "0ada421a",
   "metadata": {},
   "source": [
    "2)\n",
    "A variable is an entity to store any value or an information. A string is a type of variable where data is stored within quotes"
   ]
  },
  {
   "cell_type": "markdown",
   "id": "bed81f69",
   "metadata": {},
   "source": [
    "3) \n",
    "Different data types in Python :\n",
    "    a) String - to store characters\n",
    "    b) Integer - to store numbers\n",
    "    c) Boolean - True or false value\n",
    "    d) List - to store all string and integers using square brackets\n",
    "    e) Dictionary - storing key-value pair type of data\n",
    "    f) Set - to store unique set of data"
   ]
  },
  {
   "cell_type": "markdown",
   "id": "d5c641bd",
   "metadata": {},
   "source": [
    "4)\n",
    "An expression is made of operators, operands and variables/ constants.\n",
    "They are used to perform a mathematical operation and produce a result."
   ]
  },
  {
   "cell_type": "markdown",
   "id": "de4b410a",
   "metadata": {},
   "source": [
    "5)\n",
    "spam = 10 is a statement. \n",
    "A statement doesn't return any value or output upon execution. An expression contains or produces a value upon execution. \n",
    "Example of an expression is 1+3"
   ]
  },
  {
   "cell_type": "markdown",
   "id": "36ec0b45",
   "metadata": {},
   "source": [
    "6)\n",
    "bacon = 22\n",
    "bacon + 1\n",
    "The above expression returns bacon value as 23"
   ]
  },
  {
   "cell_type": "markdown",
   "id": "57c9c943",
   "metadata": {},
   "source": [
    "7)\n",
    "The two statements return same output. \n",
    "Output is 'spamspamspam'"
   ]
  },
  {
   "cell_type": "markdown",
   "id": "30ce7b5c",
   "metadata": {},
   "source": [
    "8)\n",
    "eggs is a valid variable name because it is a string. 100 is not a valid varaible name because a varibale name can't be an integer"
   ]
  },
  {
   "cell_type": "markdown",
   "id": "7897d470",
   "metadata": {},
   "source": [
    "9)\n",
    "The int() , float() , and str( ) functions will evaluate to the integer, floating-point number, and string versions of the value passed to them."
   ]
  },
  {
   "cell_type": "markdown",
   "id": "f7123b3c",
   "metadata": {},
   "source": [
    "10)\n",
    "The expression causes an error because it is not possible to add datas of two different data types.\n",
    "It is not possible to add a string and an integer. SO, the integer must be converted to string. You can enclose the integer within quotes and that'll fix the issue.\n",
    "Code: \"I have eaten\" + \"99\" +  \"burritos.\""
   ]
  },
  {
   "cell_type": "code",
   "execution_count": null,
   "id": "f43d5832",
   "metadata": {},
   "outputs": [],
   "source": []
  }
 ],
 "metadata": {
  "kernelspec": {
   "display_name": "Python 3 (ipykernel)",
   "language": "python",
   "name": "python3"
  },
  "language_info": {
   "codemirror_mode": {
    "name": "ipython",
    "version": 3
   },
   "file_extension": ".py",
   "mimetype": "text/x-python",
   "name": "python",
   "nbconvert_exporter": "python",
   "pygments_lexer": "ipython3",
   "version": "3.9.7"
  }
 },
 "nbformat": 4,
 "nbformat_minor": 5
}
