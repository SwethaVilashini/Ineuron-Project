{
 "cells": [
  {
   "cell_type": "markdown",
   "id": "909d15c2",
   "metadata": {},
   "source": [
    "# qn no.1\n",
    "d={}"
   ]
  },
  {
   "cell_type": "markdown",
   "id": "9ae39a7c",
   "metadata": {},
   "source": [
    "2)\n",
    "dictionary values is 42"
   ]
  },
  {
   "cell_type": "markdown",
   "id": "651c17f4",
   "metadata": {},
   "source": [
    "3) \n",
    "List denoted by []\n",
    "Dictionary denoted by {}\n",
    "Dictionary has key pair values. Accessed by Key.\n",
    "List can have any value. Accessed by index of the element \n"
   ]
  },
  {
   "cell_type": "markdown",
   "id": "61b9bb05",
   "metadata": {},
   "source": [
    "4)\n",
    "It will throw error"
   ]
  },
  {
   "cell_type": "markdown",
   "id": "f47ea2ea",
   "metadata": {},
   "source": [
    "5)'cat' in spam will check if the value 'cat' is in the  values of the dictionary.\n",
    "'cat' in spam.keys() will check if the value 'cat' is in the keys of the dictioanry"
   ]
  },
  {
   "cell_type": "markdown",
   "id": "e6a94f0e",
   "metadata": {},
   "source": [
    "6)'cat' in spam will check if the value 'cat' is in the  values of the dictionary.\n",
    "'cat' in spam.values() will check if the value 'cat' is in the values  of the dictioanry"
   ]
  },
  {
   "cell_type": "markdown",
   "id": "c16198e8",
   "metadata": {},
   "source": [
    "8)\n",
    "pprint() to pretty print a dictionary in python "
   ]
  },
  {
   "cell_type": "code",
   "execution_count": null,
   "id": "3232720c",
   "metadata": {},
   "outputs": [],
   "source": []
  }
 ],
 "metadata": {
  "kernelspec": {
   "display_name": "Python 3 (ipykernel)",
   "language": "python",
   "name": "python3"
  },
  "language_info": {
   "codemirror_mode": {
    "name": "ipython",
    "version": 3
   },
   "file_extension": ".py",
   "mimetype": "text/x-python",
   "name": "python",
   "nbconvert_exporter": "python",
   "pygments_lexer": "ipython3",
   "version": "3.9.7"
  }
 },
 "nbformat": 4,
 "nbformat_minor": 5
}
